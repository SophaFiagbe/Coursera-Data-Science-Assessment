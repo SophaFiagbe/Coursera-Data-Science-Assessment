{
  "metadata": {
    "language_info": {
      "codemirror_mode": {
        "name": "javascript"
      },
      "file_extension": ".js",
      "mimetype": "text/javascript",
      "name": "p5js",
      "nbconvert_exporter": "javascript",
      "pygments_lexer": "javascript",
      "version": "es2017"
    },
    "kernelspec": {
      "name": "p5js",
      "display_name": "p5.js",
      "language": "javascript"
    }
  },
  "nbformat_minor": 4,
  "nbformat": 4,
  "cells": [
    {
      "cell_type": "markdown",
      "source": "# Data Science Tools and Ecosystem",
      "metadata": {}
    },
    {
      "cell_type": "markdown",
      "source": "In this Notebook, Data Science Tools and Ecosystem are Summarized",
      "metadata": {}
    },
    {
      "cell_type": "markdown",
      "source": "Some of the most popular languages that Data Scientists use are; Python, R, Julia, SQL, Scala, Java, Ruby, etc.",
      "metadata": {}
    },
    {
      "cell_type": "markdown",
      "source": "Some of the most commonly used libraries by Data Scientists include; NumPy, pandas, Matplotlib, Seaborn, TensorFlow, PyTorch, Scikit-learn, etc.",
      "metadata": {}
    },
    {
      "cell_type": "markdown",
      "source": "Data Science Open Source Tools \n-------------------------------\nOpen Source Tools | Use Case\n------------------ |----------\nPython | General purpose programming and data analysis\nR |Statistical Analysis, Data Visualisation and modelling\nJupyter Notebook | Interactive Data analysis and documentation\nRStudio | Integrated development Environment for R\nApache Spark | Distributed data processing and analysis\nHadoop | Distributed storage and batch processing",
      "metadata": {}
    },
    {
      "cell_type": "markdown",
      "source": "### Below are few examples of Arithmetic Expressions in Python;\nAddition(+), Division(/), Multiplication(*), Subtraction(-), Modulus(%), etc",
      "metadata": {}
    },
    {
      "cell_type": "markdown",
      "source": "This is a simple Arithmetic expression to multiply integers;",
      "metadata": {}
    },
    {
      "cell_type": "code",
      "source": "6*6",
      "metadata": {
        "trusted": true
      },
      "execution_count": 2,
      "outputs": [
        {
          "execution_count": 2,
          "output_type": "execute_result",
          "data": {
            "text/plain": 36
          },
          "metadata": {}
        }
      ]
    },
    {
      "cell_type": "markdown",
      "source": "This is a simple arithmetic expression to add integers;",
      "metadata": {}
    },
    {
      "cell_type": "code",
      "source": "9+90",
      "metadata": {
        "trusted": true
      },
      "execution_count": 6,
      "outputs": [
        {
          "execution_count": 6,
          "output_type": "execute_result",
          "data": {
            "text/plain": 99
          },
          "metadata": {}
        }
      ]
    },
    {
      "cell_type": "code",
      "source": "(3*3)+5",
      "metadata": {
        "trusted": true
      },
      "execution_count": 8,
      "outputs": [
        {
          "execution_count": 8,
          "output_type": "execute_result",
          "data": {
            "text/plain": 14
          },
          "metadata": {}
        }
      ]
    },
    {
      "cell_type": "code",
      "source": "Minutes = 300\nHours = Minutes/60 ",
      "metadata": {
        "trusted": true
      },
      "execution_count": 10,
      "outputs": [
        {
          "execution_count": 10,
          "output_type": "execute_result",
          "data": {
            "text/plain": 5
          },
          "metadata": {}
        }
      ]
    },
    {
      "cell_type": "markdown",
      "source": "## Author = Sophia Fiagbe",
      "metadata": {}
    }
  ]
}