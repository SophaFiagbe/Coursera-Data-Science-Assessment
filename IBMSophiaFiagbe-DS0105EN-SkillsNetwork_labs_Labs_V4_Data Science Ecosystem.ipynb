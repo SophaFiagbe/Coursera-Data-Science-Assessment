{
  "metadata": {
    "language_info": {
      "codemirror_mode": {
        "name": "python",
        "version": 3
      },
      "file_extension": ".py",
      "mimetype": "text/x-python",
      "name": "python",
      "nbconvert_exporter": "python",
      "pygments_lexer": "ipython3",
      "version": "3.8"
    },
    "kernelspec": {
      "name": "python",
      "display_name": "Python (Pyodide)",
      "language": "python"
    }
  },
  "nbformat_minor": 4,
  "nbformat": 4,
  "cells": [
    {
      "cell_type": "markdown",
      "source": "# Data Science Tools and Ecosystem",
      "metadata": {}
    },
    {
      "cell_type": "markdown",
      "source": "In this notebook, Data Science Tools and Ecosystem are summarized",
      "metadata": {}
    },
    {
      "cell_type": "markdown",
      "source": "Some of the popular languages that Data Scientists use use are \n1. Python\n2. R\n3. SQL\n4. Scala\n5. Java\n6. C++\n7. Julia\n8. Php\n9. Javascript",
      "metadata": {}
    },
    {
      "cell_type": "markdown",
      "source": "Some of the commonly used libraries by Data Scientists include\n1. Pandas\n2. NumPy\n3. Seaborn\n4. Scikit learn\n5. PyTorch",
      "metadata": {}
    },
    {
      "cell_type": "markdown",
      "source": "Data Science Tools include\n1. Anaconda\n2. Jupyter Notebooks\n3. R Studio\n4. Spyder\n5. Zeppelin",
      "metadata": {}
    },
    {
      "cell_type": "markdown",
      "source": "### Below are a few examples of Arithmetic expressions in Python\n- Addition(+)\n- Subtraction(-)\n- Multiplication(*)\n- Modulus(%)",
      "metadata": {}
    },
    {
      "cell_type": "markdown",
      "source": "This is a simple arithmetic expression to multiply and add integers",
      "metadata": {}
    },
    {
      "cell_type": "code",
      "source": "(3*4)+5",
      "metadata": {
        "trusted": true
      },
      "execution_count": 1,
      "outputs": [
        {
          "execution_count": 1,
          "output_type": "execute_result",
          "data": {
            "text/plain": "17"
          },
          "metadata": {}
        }
      ]
    },
    {
      "cell_type": "markdown",
      "source": "This will convert 200 minutes to hours by deviding by 60",
      "metadata": {}
    },
    {
      "cell_type": "code",
      "source": "# Define the number of minutes\n\nminutes = 200\n\n# Convert minutes to hour\n\nhours = minutes/60\n\n# Print the result\n\nprint(f\"{minutes} minutes is equal to {hours} hours\")\n",
      "metadata": {
        "trusted": true
      },
      "execution_count": 8,
      "outputs": [
        {
          "name": "stdout",
          "text": "200 minutes is equal to 3.3333333333333335 hours\n",
          "output_type": "stream"
        }
      ]
    },
    {
      "cell_type": "markdown",
      "source": "### Objectives\n- Add comments to code cells\n- Create markdown cells\n- Add ordered and unordered lists to markdown cells\n- Format content markdown cells with heading styles",
      "metadata": {}
    },
    {
      "cell_type": "markdown",
      "source": "## Authour:\n## Sophia Fiagbe",
      "metadata": {}
    },
    {
      "cell_type": "code",
      "source": "",
      "metadata": {},
      "execution_count": null,
      "outputs": []
    }
  ]
}